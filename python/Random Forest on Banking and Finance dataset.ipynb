{
 "cells": [
  {
   "cell_type": "markdown",
   "metadata": {},
   "source": [
    "# Bank X Digital Transformation Model | Random Forest"
   ]
  },
  {
   "cell_type": "markdown",
   "metadata": {},
   "source": [
    "- A bank X is on a massive digital transformation for all its departments. \n",
    "- Bank has a growing customer base, majority of them are liability customers vs borrowers. \n",
    "- The bank is interested in expanding the borrowers base rapidly to bring in more business via loan interests. \n",
    "- A campaign that the bank ran in last quarter showed an average single digit conversion rate. \n",
    "- Digital transformation being the core strength of the business strategy, marketing department wants to devise effective campaigns with better target marketing to increase the conversion ratio to double digitwith same budget as per last campaign."
   ]
  },
  {
   "cell_type": "markdown",
   "metadata": {},
   "source": [
    "DATA DESCRIPTION: The data consists of the following attributes:\n",
    "1. `ID`: Customer ID\n",
    "2. `Age`:Customer’s approximate age.\n",
    "3. `CustomerSince`: Customer of the bank since. [encrypted unit]\n",
    "4. `HighestSpend`: Customer’s highest spend so far in one transaction. [encrypted unit]\n",
    "5. `ZipCode`: Customer’s zip code.\n",
    "6. `HiddenScore`: A score associated to the customer which is masked by the bank as an IP.\n",
    "7. `MonthlyAverageSpend`: Customer’s monthly average spend so far. [encrypted unit]\n",
    "8. `Level`:A level associated to the customer which is masked by the bank as an IP.\n",
    "9. `Mortgage`:Customer’s mortgage. [encrypted unit]\n",
    "10. `Security`: Customer’s security asset with the bank. [encrypted unit]\n",
    "11. `FixedDepositAccount`: Customer’s fixed deposit account with the bank. [encrypted unit]\n",
    "12. `InternetBanking`: if the customer uses internet banking.\n",
    "13. `CreditCard`: if the customer uses bank’s credit card.\n",
    "14. `LoanOnCard`: if the customer has a loan on credit card."
   ]
  },
  {
   "cell_type": "markdown",
   "metadata": {},
   "source": [
    "PROJECT OBJECTIVE: Build an AIML model to perform focused marketing by predicting\n",
    "customers who willconvert using the historical dataset."
   ]
  },
  {
   "cell_type": "markdown",
   "metadata": {},
   "source": [
    "# Import: Libraries and Dataset"
   ]
  },
  {
   "cell_type": "code",
   "execution_count": 1,
   "metadata": {},
   "outputs": [
    {
     "data": {
      "text/plain": [
       "False"
      ]
     },
     "execution_count": 1,
     "metadata": {},
     "output_type": "execute_result"
    }
   ],
   "source": [
    "# importing packages\n",
    "import pandas as pd\n",
    "import matplotlib.pyplot as plt\n",
    "import seaborn as sns\n",
    "from sklearn.model_selection import train_test_split\n",
    "from sklearn.ensemble import RandomForestClassifier\n",
    "from sklearn.metrics import roc_auc_score\n",
    "from sklearn.ensemble import RandomForestClassifier \n",
    "from src.util import check_imbalance, get_feature_importance, random_forest_tuning\n",
    "from src.viz import plot_corr, plot_histograms\n",
    "\n",
    "%matplotlib inline\n",
    "sns.set_style('whitegrid')\n",
    "plt.rcParams['figure.dpi'] == 300"
   ]
  },
  {
   "cell_type": "code",
   "execution_count": 18,
   "metadata": {},
   "outputs": [
    {
     "data": {
      "text/plain": [
       "(5000, 8)"
      ]
     },
     "metadata": {},
     "output_type": "display_data"
    },
    {
     "data": {
      "text/plain": [
       "(5000, 7)"
      ]
     },
     "metadata": {},
     "output_type": "display_data"
    },
    {
     "data": {
      "text/plain": [
       "(5000, 14)"
      ]
     },
     "metadata": {},
     "output_type": "display_data"
    }
   ],
   "source": [
    "# import and merging the datasets\n",
    "df1 = pd.read_csv('../data/randomforest_1.csv')\n",
    "df2 = pd.read_csv('../data/randomforest_2.csv')\n",
    "display(df1.shape,df2.shape)\n",
    "df = pd.merge(df1, df2, on='ID', how='inner',\n",
    "               validate=\"one_to_one\")\n",
    "display(df.shape)\n",
    "# converting column names into lowercase\n",
    "df.columns = df.columns.str.lower()"
   ]
  },
  {
   "cell_type": "code",
   "execution_count": 19,
   "metadata": {},
   "outputs": [
    {
     "data": {
      "text/html": [
       "<div>\n",
       "<style scoped>\n",
       "    .dataframe tbody tr th:only-of-type {\n",
       "        vertical-align: middle;\n",
       "    }\n",
       "\n",
       "    .dataframe tbody tr th {\n",
       "        vertical-align: top;\n",
       "    }\n",
       "\n",
       "    .dataframe thead th {\n",
       "        text-align: right;\n",
       "    }\n",
       "</style>\n",
       "<table border=\"1\" class=\"dataframe\">\n",
       "  <thead>\n",
       "    <tr style=\"text-align: right;\">\n",
       "      <th></th>\n",
       "      <th>id</th>\n",
       "      <th>age</th>\n",
       "      <th>customersince</th>\n",
       "      <th>highestspend</th>\n",
       "      <th>zipcode</th>\n",
       "      <th>hiddenscore</th>\n",
       "      <th>monthlyaveragespend</th>\n",
       "      <th>level</th>\n",
       "      <th>mortgage</th>\n",
       "      <th>security</th>\n",
       "      <th>fixeddepositaccount</th>\n",
       "      <th>internetbanking</th>\n",
       "      <th>creditcard</th>\n",
       "      <th>loanoncard</th>\n",
       "    </tr>\n",
       "  </thead>\n",
       "  <tbody>\n",
       "    <tr>\n",
       "      <th>4117</th>\n",
       "      <td>4118</td>\n",
       "      <td>39</td>\n",
       "      <td>14</td>\n",
       "      <td>18</td>\n",
       "      <td>92037</td>\n",
       "      <td>4</td>\n",
       "      <td>0.2</td>\n",
       "      <td>3</td>\n",
       "      <td>0</td>\n",
       "      <td>1</td>\n",
       "      <td>0</td>\n",
       "      <td>0</td>\n",
       "      <td>0</td>\n",
       "      <td>0.0</td>\n",
       "    </tr>\n",
       "    <tr>\n",
       "      <th>3873</th>\n",
       "      <td>3874</td>\n",
       "      <td>54</td>\n",
       "      <td>30</td>\n",
       "      <td>54</td>\n",
       "      <td>94550</td>\n",
       "      <td>1</td>\n",
       "      <td>1.6</td>\n",
       "      <td>3</td>\n",
       "      <td>185</td>\n",
       "      <td>0</td>\n",
       "      <td>0</td>\n",
       "      <td>1</td>\n",
       "      <td>0</td>\n",
       "      <td>0.0</td>\n",
       "    </tr>\n",
       "    <tr>\n",
       "      <th>2327</th>\n",
       "      <td>2328</td>\n",
       "      <td>51</td>\n",
       "      <td>25</td>\n",
       "      <td>70</td>\n",
       "      <td>90095</td>\n",
       "      <td>1</td>\n",
       "      <td>0.8</td>\n",
       "      <td>3</td>\n",
       "      <td>0</td>\n",
       "      <td>1</td>\n",
       "      <td>0</td>\n",
       "      <td>1</td>\n",
       "      <td>0</td>\n",
       "      <td>0.0</td>\n",
       "    </tr>\n",
       "    <tr>\n",
       "      <th>1359</th>\n",
       "      <td>1360</td>\n",
       "      <td>64</td>\n",
       "      <td>40</td>\n",
       "      <td>171</td>\n",
       "      <td>90034</td>\n",
       "      <td>2</td>\n",
       "      <td>2.1</td>\n",
       "      <td>1</td>\n",
       "      <td>433</td>\n",
       "      <td>0</td>\n",
       "      <td>0</td>\n",
       "      <td>0</td>\n",
       "      <td>0</td>\n",
       "      <td>0.0</td>\n",
       "    </tr>\n",
       "    <tr>\n",
       "      <th>3859</th>\n",
       "      <td>3860</td>\n",
       "      <td>50</td>\n",
       "      <td>24</td>\n",
       "      <td>62</td>\n",
       "      <td>90245</td>\n",
       "      <td>1</td>\n",
       "      <td>1.4</td>\n",
       "      <td>3</td>\n",
       "      <td>0</td>\n",
       "      <td>0</td>\n",
       "      <td>0</td>\n",
       "      <td>0</td>\n",
       "      <td>0</td>\n",
       "      <td>0.0</td>\n",
       "    </tr>\n",
       "  </tbody>\n",
       "</table>\n",
       "</div>"
      ],
      "text/plain": [
       "        id  age  customersince  highestspend  zipcode  hiddenscore  \\\n",
       "4117  4118   39             14            18    92037            4   \n",
       "3873  3874   54             30            54    94550            1   \n",
       "2327  2328   51             25            70    90095            1   \n",
       "1359  1360   64             40           171    90034            2   \n",
       "3859  3860   50             24            62    90245            1   \n",
       "\n",
       "      monthlyaveragespend  level  mortgage  security  fixeddepositaccount  \\\n",
       "4117                  0.2      3         0         1                    0   \n",
       "3873                  1.6      3       185         0                    0   \n",
       "2327                  0.8      3         0         1                    0   \n",
       "1359                  2.1      1       433         0                    0   \n",
       "3859                  1.4      3         0         0                    0   \n",
       "\n",
       "      internetbanking  creditcard  loanoncard  \n",
       "4117                0           0         0.0  \n",
       "3873                1           0         0.0  \n",
       "2327                1           0         0.0  \n",
       "1359                0           0         0.0  \n",
       "3859                0           0         0.0  "
      ]
     },
     "metadata": {},
     "output_type": "display_data"
    }
   ],
   "source": [
    "# glancing at the dataset\n",
    "display(df.sample(5))"
   ]
  },
  {
   "cell_type": "markdown",
   "metadata": {},
   "source": [
    "# Data Cleaning "
   ]
  },
  {
   "cell_type": "code",
   "execution_count": 20,
   "metadata": {},
   "outputs": [
    {
     "data": {
      "text/plain": [
       "id                      0\n",
       "age                     0\n",
       "customersince           0\n",
       "highestspend            0\n",
       "zipcode                 0\n",
       "hiddenscore             0\n",
       "monthlyaveragespend     0\n",
       "level                   0\n",
       "mortgage                0\n",
       "security                0\n",
       "fixeddepositaccount     0\n",
       "internetbanking         0\n",
       "creditcard              0\n",
       "loanoncard             20\n",
       "dtype: int64"
      ]
     },
     "execution_count": 20,
     "metadata": {},
     "output_type": "execute_result"
    }
   ],
   "source": [
    "# checking for missing value\n",
    "df.isnull().sum()"
   ]
  },
  {
   "cell_type": "markdown",
   "metadata": {},
   "source": [
    "There are 20 missing values in `loanoncard`\n",
    "for the missing value treatment, dropping 20 records sincethey only make for 0.4% of the total dataset size and wouldn't have any significant dataloss."
   ]
  },
  {
   "cell_type": "code",
   "execution_count": 21,
   "metadata": {},
   "outputs": [
    {
     "name": "stdout",
     "output_type": "stream",
     "text": [
      "(5000, 14)\n",
      "(4980, 14)\n"
     ]
    }
   ],
   "source": [
    "# dropping the mising value\n",
    "print(df.shape)\n",
    "df = df.dropna()\n",
    "print(df.shape)"
   ]
  },
  {
   "cell_type": "markdown",
   "metadata": {},
   "source": [
    "For modelling, columns like id and zipcode are not useful since they are nominal and don't affect the outputs and we have already joined the dataset"
   ]
  },
  {
   "cell_type": "code",
   "execution_count": 30,
   "metadata": {},
   "outputs": [
    {
     "name": "stdout",
     "output_type": "stream",
     "text": [
      "(4980, 14)\n",
      "(4980, 12)\n"
     ]
    }
   ],
   "source": [
    "# dropping the mising value\n",
    "print(df.shape)\n",
    "df = df.drop(columns=['id','zipcode'], axis=1)\n",
    "print(df.shape)"
   ]
  },
  {
   "cell_type": "markdown",
   "metadata": {},
   "source": [
    "# Exploratory Data Analysis"
   ]
  },
  {
   "cell_type": "code",
   "execution_count": 31,
   "metadata": {},
   "outputs": [
    {
     "data": {
      "text/html": [
       "<div>\n",
       "<style scoped>\n",
       "    .dataframe tbody tr th:only-of-type {\n",
       "        vertical-align: middle;\n",
       "    }\n",
       "\n",
       "    .dataframe tbody tr th {\n",
       "        vertical-align: top;\n",
       "    }\n",
       "\n",
       "    .dataframe thead th {\n",
       "        text-align: right;\n",
       "    }\n",
       "</style>\n",
       "<table border=\"1\" class=\"dataframe\">\n",
       "  <thead>\n",
       "    <tr style=\"text-align: right;\">\n",
       "      <th></th>\n",
       "      <th>count</th>\n",
       "      <th>mean</th>\n",
       "      <th>std</th>\n",
       "      <th>min</th>\n",
       "      <th>25%</th>\n",
       "      <th>50%</th>\n",
       "      <th>75%</th>\n",
       "      <th>max</th>\n",
       "    </tr>\n",
       "  </thead>\n",
       "  <tbody>\n",
       "    <tr>\n",
       "      <th>age</th>\n",
       "      <td>4980.0</td>\n",
       "      <td>45.352610</td>\n",
       "      <td>11.464212</td>\n",
       "      <td>23.0</td>\n",
       "      <td>35.0</td>\n",
       "      <td>45.0</td>\n",
       "      <td>55.000</td>\n",
       "      <td>67.0</td>\n",
       "    </tr>\n",
       "    <tr>\n",
       "      <th>customersince</th>\n",
       "      <td>4980.0</td>\n",
       "      <td>20.117671</td>\n",
       "      <td>11.468716</td>\n",
       "      <td>-3.0</td>\n",
       "      <td>10.0</td>\n",
       "      <td>20.0</td>\n",
       "      <td>30.000</td>\n",
       "      <td>43.0</td>\n",
       "    </tr>\n",
       "    <tr>\n",
       "      <th>highestspend</th>\n",
       "      <td>4980.0</td>\n",
       "      <td>73.852410</td>\n",
       "      <td>46.070090</td>\n",
       "      <td>8.0</td>\n",
       "      <td>39.0</td>\n",
       "      <td>64.0</td>\n",
       "      <td>98.000</td>\n",
       "      <td>224.0</td>\n",
       "    </tr>\n",
       "    <tr>\n",
       "      <th>hiddenscore</th>\n",
       "      <td>4980.0</td>\n",
       "      <td>2.395582</td>\n",
       "      <td>1.147200</td>\n",
       "      <td>1.0</td>\n",
       "      <td>1.0</td>\n",
       "      <td>2.0</td>\n",
       "      <td>3.000</td>\n",
       "      <td>4.0</td>\n",
       "    </tr>\n",
       "    <tr>\n",
       "      <th>monthlyaveragespend</th>\n",
       "      <td>4980.0</td>\n",
       "      <td>1.939536</td>\n",
       "      <td>1.750006</td>\n",
       "      <td>0.0</td>\n",
       "      <td>0.7</td>\n",
       "      <td>1.5</td>\n",
       "      <td>2.525</td>\n",
       "      <td>10.0</td>\n",
       "    </tr>\n",
       "    <tr>\n",
       "      <th>level</th>\n",
       "      <td>4980.0</td>\n",
       "      <td>1.880924</td>\n",
       "      <td>0.840144</td>\n",
       "      <td>1.0</td>\n",
       "      <td>1.0</td>\n",
       "      <td>2.0</td>\n",
       "      <td>3.000</td>\n",
       "      <td>3.0</td>\n",
       "    </tr>\n",
       "    <tr>\n",
       "      <th>mortgage</th>\n",
       "      <td>4980.0</td>\n",
       "      <td>56.589759</td>\n",
       "      <td>101.836758</td>\n",
       "      <td>0.0</td>\n",
       "      <td>0.0</td>\n",
       "      <td>0.0</td>\n",
       "      <td>101.000</td>\n",
       "      <td>635.0</td>\n",
       "    </tr>\n",
       "    <tr>\n",
       "      <th>security</th>\n",
       "      <td>4980.0</td>\n",
       "      <td>0.104418</td>\n",
       "      <td>0.305832</td>\n",
       "      <td>0.0</td>\n",
       "      <td>0.0</td>\n",
       "      <td>0.0</td>\n",
       "      <td>0.000</td>\n",
       "      <td>1.0</td>\n",
       "    </tr>\n",
       "    <tr>\n",
       "      <th>fixeddepositaccount</th>\n",
       "      <td>4980.0</td>\n",
       "      <td>0.060643</td>\n",
       "      <td>0.238697</td>\n",
       "      <td>0.0</td>\n",
       "      <td>0.0</td>\n",
       "      <td>0.0</td>\n",
       "      <td>0.000</td>\n",
       "      <td>1.0</td>\n",
       "    </tr>\n",
       "    <tr>\n",
       "      <th>internetbanking</th>\n",
       "      <td>4980.0</td>\n",
       "      <td>0.597189</td>\n",
       "      <td>0.490513</td>\n",
       "      <td>0.0</td>\n",
       "      <td>0.0</td>\n",
       "      <td>1.0</td>\n",
       "      <td>1.000</td>\n",
       "      <td>1.0</td>\n",
       "    </tr>\n",
       "    <tr>\n",
       "      <th>creditcard</th>\n",
       "      <td>4980.0</td>\n",
       "      <td>0.294378</td>\n",
       "      <td>0.455808</td>\n",
       "      <td>0.0</td>\n",
       "      <td>0.0</td>\n",
       "      <td>0.0</td>\n",
       "      <td>1.000</td>\n",
       "      <td>1.0</td>\n",
       "    </tr>\n",
       "    <tr>\n",
       "      <th>loanoncard</th>\n",
       "      <td>4980.0</td>\n",
       "      <td>0.096386</td>\n",
       "      <td>0.295149</td>\n",
       "      <td>0.0</td>\n",
       "      <td>0.0</td>\n",
       "      <td>0.0</td>\n",
       "      <td>0.000</td>\n",
       "      <td>1.0</td>\n",
       "    </tr>\n",
       "  </tbody>\n",
       "</table>\n",
       "</div>"
      ],
      "text/plain": [
       "                      count       mean         std   min   25%   50%      75%  \\\n",
       "age                  4980.0  45.352610   11.464212  23.0  35.0  45.0   55.000   \n",
       "customersince        4980.0  20.117671   11.468716  -3.0  10.0  20.0   30.000   \n",
       "highestspend         4980.0  73.852410   46.070090   8.0  39.0  64.0   98.000   \n",
       "hiddenscore          4980.0   2.395582    1.147200   1.0   1.0   2.0    3.000   \n",
       "monthlyaveragespend  4980.0   1.939536    1.750006   0.0   0.7   1.5    2.525   \n",
       "level                4980.0   1.880924    0.840144   1.0   1.0   2.0    3.000   \n",
       "mortgage             4980.0  56.589759  101.836758   0.0   0.0   0.0  101.000   \n",
       "security             4980.0   0.104418    0.305832   0.0   0.0   0.0    0.000   \n",
       "fixeddepositaccount  4980.0   0.060643    0.238697   0.0   0.0   0.0    0.000   \n",
       "internetbanking      4980.0   0.597189    0.490513   0.0   0.0   1.0    1.000   \n",
       "creditcard           4980.0   0.294378    0.455808   0.0   0.0   0.0    1.000   \n",
       "loanoncard           4980.0   0.096386    0.295149   0.0   0.0   0.0    0.000   \n",
       "\n",
       "                       max  \n",
       "age                   67.0  \n",
       "customersince         43.0  \n",
       "highestspend         224.0  \n",
       "hiddenscore            4.0  \n",
       "monthlyaveragespend   10.0  \n",
       "level                  3.0  \n",
       "mortgage             635.0  \n",
       "security               1.0  \n",
       "fixeddepositaccount    1.0  \n",
       "internetbanking        1.0  \n",
       "creditcard             1.0  \n",
       "loanoncard             1.0  "
      ]
     },
     "execution_count": 31,
     "metadata": {},
     "output_type": "execute_result"
    }
   ],
   "source": [
    "df.describe().T"
   ]
  },
  {
   "cell_type": "markdown",
   "metadata": {},
   "source": [
    "\n",
    "Age:\n",
    "- The average age of the customers is approximately 45 years.\n",
    "- Most customers fall within the age range of 35 to 55 years.\n",
    "- The youngest customer is 23 years old, and the oldest is 67 years.\n",
    "\n",
    "Customer Since:\n",
    "- Customers have been with the bank for an average of 20 years.\n",
    "- The range of customer tenure spans from -3 to 43 years.\n",
    "- A significant portion of customers has been with the bank for 10 to 30 years.\n",
    "\n",
    "Highest Spend:\n",
    "- The highest spend in one transaction ranges from 8 to 224 (in some undisclosed unit).\n",
    "- The average highest spend is approximately 73, with a variation around 46.\n",
    "\n",
    "Hidden Score:\n",
    "- The hidden score associated with customers ranges from 1 to 4.\n",
    "- The average hidden score is approximately 2, with a variation around 1.\n",
    "\n",
    "Monthly Average Spend:\n",
    "- The average monthly spending ranges from 0 to 10 (in some undisclosed unit).\n",
    "- Most customers have a monthly average spend between 0.7 and 2.5.\n",
    "\n",
    "Level:\n",
    "- The level associated with customers ranges from 1 to 3.\n",
    "- The average level is approximately 1.88.\n",
    "\n",
    "Mortgage:\n",
    "- Mortgage amounts range from 0 to 635 (in some undisclosed unit).\n",
    "- The average mortgage is around 56, with considerable variation.\n",
    "\n",
    "Security:\n",
    "- Most customers have no security assets with the bank (values are 0).\n",
    "- Some customers have security assets, with values up to 1.\n",
    "\n",
    "Fixed Deposit Account:\n",
    "- The majority of customers do not have a fixed deposit account with the bank (values are 0).\n",
    "- Some customers have a fixed deposit account, with values up to 1."
   ]
  },
  {
   "cell_type": "code",
   "execution_count": 33,
   "metadata": {},
   "outputs": [
    {
     "data": {
      "image/png": "[encoded data removed]",
      "text/plain": [
       "<Figure size 1200x1000 with 12 Axes>"
      ]
     },
     "metadata": {},
     "output_type": "display_data"
    }
   ],
   "source": [
    "# creating histogram for all the variables\n",
    "columns = df.columns.to_list()\n",
    "plot_histograms(df,column=columns)"
   ]
  },
  {
   "cell_type": "code",
   "execution_count": 34,
   "metadata": {},
   "outputs": [
    {
     "data": {
      "image/png": "[encoded data removed]",
      "text/plain": [
       "<Figure size 1000x1000 with 2 Axes>"
      ]
     },
     "metadata": {},
     "output_type": "display_data"
    }
   ],
   "source": [
    "corr = df.corr()\n",
    "plot_corr(corr, annot=False)"
   ]
  },
  {
   "cell_type": "markdown",
   "metadata": {},
   "source": [
    "- `age` is highly overall correlated with `customersince`\n",
    "- `highestspend` is highly correlated with `loanoncard`\n",
    "- `highestspend` is highly correlated with `monthlyaveragespend`m"
   ]
  },
  {
   "cell_type": "markdown",
   "metadata": {},
   "source": [
    "# Data Pre-Processing"
   ]
  },
  {
   "cell_type": "code",
   "execution_count": 43,
   "metadata": {},
   "outputs": [
    {
     "name": "stdout",
     "output_type": "stream",
     "text": [
      "Number of true: 480 (9.64%)\n",
      "Number of false: 4500 (90.361%)\n"
     ]
    }
   ],
   "source": [
    "# checking the distribution of target variable\n",
    "check_imbalance(df,class_column='loanoncard')\n",
    "\n",
    "# splitting into independent and dependent variable\n",
    "X = df.drop(['loanoncard'], axis=1)\n",
    "y = df['loanoncard']\n",
    "\n",
    "# Splitting the dataset into training set and test set\n",
    "X_train, X_test, y_train, y_test = train_test_split(X, y, test_size=0.3, random_state=23)"
   ]
  },
  {
   "cell_type": "markdown",
   "metadata": {},
   "source": [
    "# Model Training"
   ]
  },
  {
   "cell_type": "code",
   "execution_count": 44,
   "metadata": {},
   "outputs": [
    {
     "name": "stdout",
     "output_type": "stream",
     "text": [
      "Training set accuracy 0.9991394148020654\n",
      "Testing set accuracy 0.9825970548862115\n"
     ]
    }
   ],
   "source": [
    "# creating a model\n",
    "random_forest = RandomForestClassifier(n_estimators=10, random_state=23)\n",
    "# fitting the variable\n",
    "random_forest.fit(X_train,y_train)\n",
    "# checking the accuracy score of a classifier on both train and test\n",
    "print(f\"Training set accuracy {random_forest.score(X_train, y_train)}\")\n",
    "print(f\"Testing set accuracy {random_forest.score(X_test,y_test)}\")"
   ]
  },
  {
   "cell_type": "code",
   "execution_count": 11,
   "metadata": {},
   "outputs": [],
   "source": [
    "n = [100,200,300]\n",
    "d = [5,10,20,30,40]\n",
    "l = [300,400,500]\n",
    "seed = 1\n",
    "\n",
    "model_performance_df = random_forest_tuning(n=n, d=d, l=l, seed=seed,\n",
    "                     x_train=X_train,x_test=X_test,\n",
    "                     y_train=y_train, y_test=y_test)"
   ]
  },
  {
   "cell_type": "code",
   "execution_count": 12,
   "metadata": {},
   "outputs": [
    {
     "data": {
      "text/html": [
       "<div>\n",
       "<style scoped>\n",
       "    .dataframe tbody tr th:only-of-type {\n",
       "        vertical-align: middle;\n",
       "    }\n",
       "\n",
       "    .dataframe tbody tr th {\n",
       "        vertical-align: top;\n",
       "    }\n",
       "\n",
       "    .dataframe thead th {\n",
       "        text-align: right;\n",
       "    }\n",
       "</style>\n",
       "<table border=\"1\" class=\"dataframe\">\n",
       "  <thead>\n",
       "    <tr style=\"text-align: right;\">\n",
       "      <th></th>\n",
       "      <th>parameter</th>\n",
       "      <th>train_auc</th>\n",
       "      <th>test_auc</th>\n",
       "    </tr>\n",
       "  </thead>\n",
       "  <tbody>\n",
       "    <tr>\n",
       "      <th>0</th>\n",
       "      <td>trees100_maxDepth5_minLeaf300</td>\n",
       "      <td>0.9610</td>\n",
       "      <td>0.9434</td>\n",
       "    </tr>\n",
       "    <tr>\n",
       "      <th>1</th>\n",
       "      <td>trees100_maxDepth5_minLeaf400</td>\n",
       "      <td>0.9612</td>\n",
       "      <td>0.9444</td>\n",
       "    </tr>\n",
       "    <tr>\n",
       "      <th>2</th>\n",
       "      <td>trees100_maxDepth5_minLeaf500</td>\n",
       "      <td>0.9555</td>\n",
       "      <td>0.9460</td>\n",
       "    </tr>\n",
       "    <tr>\n",
       "      <th>3</th>\n",
       "      <td>trees100_maxDepth10_minLeaf300</td>\n",
       "      <td>0.9610</td>\n",
       "      <td>0.9434</td>\n",
       "    </tr>\n",
       "    <tr>\n",
       "      <th>4</th>\n",
       "      <td>trees100_maxDepth10_minLeaf400</td>\n",
       "      <td>0.9612</td>\n",
       "      <td>0.9444</td>\n",
       "    </tr>\n",
       "  </tbody>\n",
       "</table>\n",
       "</div>"
      ],
      "text/plain": [
       "                        parameter  train_auc  test_auc\n",
       "0   trees100_maxDepth5_minLeaf300     0.9610    0.9434\n",
       "1   trees100_maxDepth5_minLeaf400     0.9612    0.9444\n",
       "2   trees100_maxDepth5_minLeaf500     0.9555    0.9460\n",
       "3  trees100_maxDepth10_minLeaf300     0.9610    0.9434\n",
       "4  trees100_maxDepth10_minLeaf400     0.9612    0.9444"
      ]
     },
     "execution_count": 12,
     "metadata": {},
     "output_type": "execute_result"
    }
   ],
   "source": [
    "model_performance_df.head()"
   ]
  },
  {
   "cell_type": "markdown",
   "metadata": {},
   "source": [
    "2nd round of tuning"
   ]
  },
  {
   "cell_type": "code",
   "execution_count": 13,
   "metadata": {},
   "outputs": [],
   "source": [
    "n = [50,100,150]\n",
    "d = [5,6,7,8,9,10,20,30,40]\n",
    "l = [100,200,225,250,275,300,325,350,375]\n",
    "seed = 1\n",
    "\n",
    "model_performance_df = random_forest_tuning(n=n, d=d, l=l, seed=seed,\n",
    "                     x_train=X_train,x_test=X_test,\n",
    "                     y_train=y_train, y_test=y_test)"
   ]
  },
  {
   "cell_type": "code",
   "execution_count": 14,
   "metadata": {},
   "outputs": [
    {
     "data": {
      "text/html": [
       "<div>\n",
       "<style scoped>\n",
       "    .dataframe tbody tr th:only-of-type {\n",
       "        vertical-align: middle;\n",
       "    }\n",
       "\n",
       "    .dataframe tbody tr th {\n",
       "        vertical-align: top;\n",
       "    }\n",
       "\n",
       "    .dataframe thead th {\n",
       "        text-align: right;\n",
       "    }\n",
       "</style>\n",
       "<table border=\"1\" class=\"dataframe\">\n",
       "  <thead>\n",
       "    <tr style=\"text-align: right;\">\n",
       "      <th></th>\n",
       "      <th>parameter</th>\n",
       "      <th>train_auc</th>\n",
       "      <th>test_auc</th>\n",
       "    </tr>\n",
       "  </thead>\n",
       "  <tbody>\n",
       "    <tr>\n",
       "      <th>0</th>\n",
       "      <td>trees50_maxDepth5_minLeaf100</td>\n",
       "      <td>0.9869</td>\n",
       "      <td>0.9749</td>\n",
       "    </tr>\n",
       "    <tr>\n",
       "      <th>1</th>\n",
       "      <td>trees50_maxDepth5_minLeaf200</td>\n",
       "      <td>0.9748</td>\n",
       "      <td>0.9538</td>\n",
       "    </tr>\n",
       "    <tr>\n",
       "      <th>2</th>\n",
       "      <td>trees50_maxDepth5_minLeaf225</td>\n",
       "      <td>0.9732</td>\n",
       "      <td>0.9534</td>\n",
       "    </tr>\n",
       "    <tr>\n",
       "      <th>3</th>\n",
       "      <td>trees50_maxDepth5_minLeaf250</td>\n",
       "      <td>0.9662</td>\n",
       "      <td>0.9467</td>\n",
       "    </tr>\n",
       "    <tr>\n",
       "      <th>4</th>\n",
       "      <td>trees50_maxDepth5_minLeaf275</td>\n",
       "      <td>0.9634</td>\n",
       "      <td>0.9457</td>\n",
       "    </tr>\n",
       "  </tbody>\n",
       "</table>\n",
       "</div>"
      ],
      "text/plain": [
       "                      parameter  train_auc  test_auc\n",
       "0  trees50_maxDepth5_minLeaf100     0.9869    0.9749\n",
       "1  trees50_maxDepth5_minLeaf200     0.9748    0.9538\n",
       "2  trees50_maxDepth5_minLeaf225     0.9732    0.9534\n",
       "3  trees50_maxDepth5_minLeaf250     0.9662    0.9467\n",
       "4  trees50_maxDepth5_minLeaf275     0.9634    0.9457"
      ]
     },
     "execution_count": 14,
     "metadata": {},
     "output_type": "execute_result"
    }
   ],
   "source": [
    "model_performance_df.head()"
   ]
  },
  {
   "cell_type": "markdown",
   "metadata": {},
   "source": [
    "# Best features"
   ]
  },
  {
   "cell_type": "code",
   "execution_count": 15,
   "metadata": {},
   "outputs": [
    {
     "name": "stdout",
     "output_type": "stream",
     "text": [
      "train auc :  0.9869\n",
      "test auc :  0.9749\n"
     ]
    }
   ],
   "source": [
    "random_forest = RandomForestClassifier(n_estimators=50,\n",
    "                                        max_depth=5,\n",
    "                                        random_state=1,\n",
    "                                        min_samples_leaf=100)\n",
    "random_forest.fit(X_train, y_train)\n",
    "train_pred = random_forest.predict_proba(X_train)\n",
    "test_pred = random_forest.predict_proba(X_test)\n",
    "print(\"train auc : \",round( roc_auc_score(y_train , train_pred[:,1]),4))\n",
    "print(\"test auc : \",round( roc_auc_score(y_test , test_pred[:,1]),4))"
   ]
  },
  {
   "cell_type": "code",
   "execution_count": 16,
   "metadata": {},
   "outputs": [
    {
     "data": {
      "text/html": [
       "<div>\n",
       "<style scoped>\n",
       "    .dataframe tbody tr th:only-of-type {\n",
       "        vertical-align: middle;\n",
       "    }\n",
       "\n",
       "    .dataframe tbody tr th {\n",
       "        vertical-align: top;\n",
       "    }\n",
       "\n",
       "    .dataframe thead th {\n",
       "        text-align: right;\n",
       "    }\n",
       "</style>\n",
       "<table border=\"1\" class=\"dataframe\">\n",
       "  <thead>\n",
       "    <tr style=\"text-align: right;\">\n",
       "      <th></th>\n",
       "      <th>Name</th>\n",
       "      <th>Imp</th>\n",
       "    </tr>\n",
       "  </thead>\n",
       "  <tbody>\n",
       "    <tr>\n",
       "      <th>2</th>\n",
       "      <td>highestspend</td>\n",
       "      <td>0.478470</td>\n",
       "    </tr>\n",
       "    <tr>\n",
       "      <th>4</th>\n",
       "      <td>monthlyaveragespend</td>\n",
       "      <td>0.267936</td>\n",
       "    </tr>\n",
       "    <tr>\n",
       "      <th>5</th>\n",
       "      <td>level</td>\n",
       "      <td>0.122108</td>\n",
       "    </tr>\n",
       "    <tr>\n",
       "      <th>8</th>\n",
       "      <td>fixeddepositaccount</td>\n",
       "      <td>0.067449</td>\n",
       "    </tr>\n",
       "    <tr>\n",
       "      <th>6</th>\n",
       "      <td>mortgage</td>\n",
       "      <td>0.026159</td>\n",
       "    </tr>\n",
       "  </tbody>\n",
       "</table>\n",
       "</div>"
      ],
      "text/plain": [
       "                  Name       Imp\n",
       "2         highestspend  0.478470\n",
       "4  monthlyaveragespend  0.267936\n",
       "5                level  0.122108\n",
       "8  fixeddepositaccount  0.067449\n",
       "6             mortgage  0.026159"
      ]
     },
     "execution_count": 16,
     "metadata": {},
     "output_type": "execute_result"
    }
   ],
   "source": [
    "get_feature_importance(X_train,random_forest,5)"
   ]
  }
 ],
 "metadata": {
  "kernelspec": {
   "display_name": "base",
   "language": "python",
   "name": "python3"
  },
  "language_info": {
   "codemirror_mode": {
    "name": "ipython",
    "version": 3
   },
   "file_extension": ".py",
   "mimetype": "text/x-python",
   "name": "python",
   "nbconvert_exporter": "python",
   "pygments_lexer": "ipython3",
   "version": "3.11.3"
  }
 },
 "nbformat": 4,
 "nbformat_minor": 2
}
